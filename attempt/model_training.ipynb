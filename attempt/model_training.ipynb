{
 "cells": [
  {
   "cell_type": "markdown",
   "id": "1c75a753",
   "metadata": {},
   "source": [
    "Import packages"
   ]
  },
  {
   "cell_type": "code",
   "execution_count": 1,
   "id": "a0f84e30",
   "metadata": {},
   "outputs": [],
   "source": [
    "import pandas as pd\n",
    "import numpy as np\n",
    "import torch\n",
    "import torch.nn as nn\n",
    "import matplotlib.pyplot as plt\n",
    "from torch.utils.data import Dataset, DataLoader\n",
    "from sklearn.preprocessing import MinMaxScaler\n",
    "from tqdm import tqdm\n",
    "import os\n",
    "\n",
    "os.chdir(r\"c:/Users/JosephVovrosh/personalgit\")"
   ]
  },
  {
   "cell_type": "markdown",
   "id": "1014eab8",
   "metadata": {},
   "source": [
    "Train the model:"
   ]
  },
  {
   "cell_type": "code",
   "execution_count": 2,
   "id": "578fb4c8",
   "metadata": {},
   "outputs": [],
   "source": [
    "# ----- CONFIG -----\n",
    "WINDOW_SIZE = 31*2\n",
    "PREDICT_SIZE = 15\n",
    "BATCH_SIZE = 200\n",
    "EPOCHS = 50\n",
    "LEARNING_RATE = 1e-3\n",
    "\n",
    "# ----- LOAD DATA -----\n",
    "df = pd.read_csv(\"Kaggle-Store_Sales/training_data.csv\", parse_dates=[\"date\"])\n",
    "df.sort_values(by=[\"store_nbr\", \"family\", \"date\"], inplace=True)\n",
    "\n",
    "cutoff = pd.Timestamp(\"2013-10-01\")\n",
    "df_train = df[df['date'] <= cutoff]\n",
    "\n",
    "df_train = df_train.copy()\n",
    "df_train['day_sin'] = np.sin(2 * np.pi * df_train['date'].dt.weekday / 7)\n",
    "df_train['day_cos'] = np.cos(2 * np.pi * df_train['date'].dt.weekday / 7)\n",
    "\n",
    "# # ----- FEATURE ENGINEERING -----\n",
    "features = [\"day_sin\", \"day_cos\", \"sales\", \"onpromotion\", \"type_local\", \"transferred_local\", \"type_regional\", \"transferred_regional\", \"type_national\", \"transferred_national\"]#, \"cluster\", \"type\", \"city\", \"state\", \"transactions\", \"dcoilwtico\"]\n",
    "\n",
    "# # Normalize sales per group\n",
    "# df['sales'] = df.groupby(['store_nbr', 'family'])['sales'].transform(lambda x: MinMaxScaler().fit_transform(x.values.reshape(-1, 1)).flatten())\n",
    "\n",
    "# scaler = MinMaxScaler()\n",
    "# df_train[features] = scaler.fit_transform(df_train[features])\n"
   ]
  },
  {
   "cell_type": "code",
   "execution_count": 3,
   "id": "8ef72179",
   "metadata": {},
   "outputs": [],
   "source": [
    "# ----- CREATE SEQUENCES -----\n",
    "class SalesDataset(Dataset):\n",
    "    def __init__(self, df, window_size, predict_size):\n",
    "        self.X = []\n",
    "        self.y = []\n",
    "        \n",
    "        for _, group in df.groupby(['store_nbr', 'family']):\n",
    "            group = group.sort_values('date')\n",
    "            values = group[features].values\n",
    "            sales = group['sales'].values\n",
    "            \n",
    "            for i in range(len(group) - window_size - predict_size):\n",
    "                input_seq = values[i:i+window_size]\n",
    "                target_seq = sales[i+window_size:i+window_size+predict_size]\n",
    "                \n",
    "                self.X.append(input_seq)\n",
    "                self.y.append(target_seq)\n",
    "\n",
    "        self.X = torch.tensor(np.array(self.X), dtype=torch.float32)\n",
    "        self.y = torch.tensor(np.array(self.y), dtype=torch.float32)\n",
    "    \n",
    "    def __len__(self):\n",
    "        return len(self.X)\n",
    "\n",
    "    def __getitem__(self, idx):\n",
    "        return self.X[idx], self.y[idx]\n",
    "\n",
    "dataset = SalesDataset(df_train, WINDOW_SIZE, PREDICT_SIZE)\n",
    "dataloader = DataLoader(dataset, batch_size=BATCH_SIZE, shuffle=True)"
   ]
  },
  {
   "cell_type": "code",
   "execution_count": 4,
   "id": "be671bef",
   "metadata": {},
   "outputs": [],
   "source": [
    "# ----- MODEL -----\n",
    "class FeedforwardNet(nn.Module):\n",
    "    def __init__(self, input_size, hidden_size=64, output_size=PREDICT_SIZE):\n",
    "        super().__init__()\n",
    "        self.net = nn.Sequential(\n",
    "            nn.Flatten(),\n",
    "            nn.Linear(input_size * WINDOW_SIZE, hidden_size),\n",
    "            nn.ReLU(),\n",
    "            nn.Linear(hidden_size, hidden_size),\n",
    "            nn.ReLU(),\n",
    "            nn.Linear(hidden_size, output_size)\n",
    "        )\n",
    "\n",
    "    def forward(self, x):\n",
    "        return self.net(x)\n",
    "\n",
    "model = FeedforwardNet(input_size=len(features))\n",
    "\n",
    "# ----- RMSLE LOSS -----\n",
    "class RMSLELoss(nn.Module):\n",
    "    def __init__(self):\n",
    "        super().__init__()\n",
    "        self.mse = nn.MSELoss()\n",
    "\n",
    "    def forward(self, y_pred, y_true):\n",
    "        y_pred = torch.clamp(y_pred, min=0)\n",
    "        y_true = torch.clamp(y_true, min=0)\n",
    "        return torch.sqrt(self.mse(torch.log1p(y_pred), torch.log1p(y_true)))\n",
    "\n",
    "criterion = RMSLELoss()\n",
    "optimizer = torch.optim.Adam(model.parameters(), lr=LEARNING_RATE)"
   ]
  },
  {
   "cell_type": "code",
   "execution_count": 5,
   "id": "7b152290",
   "metadata": {},
   "outputs": [
    {
     "name": "stderr",
     "output_type": "stream",
     "text": [
      "Epoch 1/50:   0%|          | 0/1756 [00:00<?, ?it/s]"
     ]
    },
    {
     "name": "stderr",
     "output_type": "stream",
     "text": [
      "Epoch 1/50: 100%|██████████| 1756/1756 [00:11<00:00, 156.96it/s]\n"
     ]
    },
    {
     "name": "stdout",
     "output_type": "stream",
     "text": [
      "Epoch 1: Train Loss = 0.3972, Test Loss = 0.3338\n"
     ]
    },
    {
     "name": "stderr",
     "output_type": "stream",
     "text": [
      "Epoch 2/50: 100%|██████████| 1756/1756 [00:12<00:00, 140.61it/s]\n"
     ]
    },
    {
     "name": "stdout",
     "output_type": "stream",
     "text": [
      "Epoch 2: Train Loss = 0.3458, Test Loss = 0.3328\n"
     ]
    },
    {
     "name": "stderr",
     "output_type": "stream",
     "text": [
      "Epoch 3/50: 100%|██████████| 1756/1756 [00:19<00:00, 91.74it/s] \n"
     ]
    },
    {
     "name": "stdout",
     "output_type": "stream",
     "text": [
      "Epoch 3: Train Loss = 0.3401, Test Loss = 0.3338\n"
     ]
    },
    {
     "name": "stderr",
     "output_type": "stream",
     "text": [
      "Epoch 4/50: 100%|██████████| 1756/1756 [00:21<00:00, 81.20it/s] \n"
     ]
    },
    {
     "name": "stdout",
     "output_type": "stream",
     "text": [
      "Epoch 4: Train Loss = 0.3374, Test Loss = 0.3319\n"
     ]
    },
    {
     "name": "stderr",
     "output_type": "stream",
     "text": [
      "Epoch 5/50: 100%|██████████| 1756/1756 [00:20<00:00, 84.01it/s] \n"
     ]
    },
    {
     "name": "stdout",
     "output_type": "stream",
     "text": [
      "Epoch 5: Train Loss = 0.3350, Test Loss = 0.3326\n"
     ]
    },
    {
     "name": "stderr",
     "output_type": "stream",
     "text": [
      "Epoch 6/50: 100%|██████████| 1756/1756 [00:23<00:00, 74.42it/s] \n"
     ]
    },
    {
     "name": "stdout",
     "output_type": "stream",
     "text": [
      "Epoch 6: Train Loss = 0.3346, Test Loss = 0.3298\n"
     ]
    },
    {
     "name": "stderr",
     "output_type": "stream",
     "text": [
      "Epoch 7/50: 100%|██████████| 1756/1756 [00:22<00:00, 79.27it/s] \n"
     ]
    },
    {
     "name": "stdout",
     "output_type": "stream",
     "text": [
      "Epoch 7: Train Loss = 0.3322, Test Loss = 0.3298\n"
     ]
    },
    {
     "name": "stderr",
     "output_type": "stream",
     "text": [
      "Epoch 8/50: 100%|██████████| 1756/1756 [00:21<00:00, 81.01it/s] \n"
     ]
    },
    {
     "name": "stdout",
     "output_type": "stream",
     "text": [
      "Epoch 8: Train Loss = 0.3331, Test Loss = 0.3286\n"
     ]
    },
    {
     "name": "stderr",
     "output_type": "stream",
     "text": [
      "Epoch 9/50: 100%|██████████| 1756/1756 [00:21<00:00, 83.18it/s] \n"
     ]
    },
    {
     "name": "stdout",
     "output_type": "stream",
     "text": [
      "Epoch 9: Train Loss = 0.3330, Test Loss = 0.3300\n"
     ]
    },
    {
     "name": "stderr",
     "output_type": "stream",
     "text": [
      "Epoch 10/50: 100%|██████████| 1756/1756 [00:19<00:00, 88.48it/s] \n"
     ]
    },
    {
     "name": "stdout",
     "output_type": "stream",
     "text": [
      "Epoch 10: Train Loss = 0.3302, Test Loss = 0.3283\n"
     ]
    },
    {
     "name": "stderr",
     "output_type": "stream",
     "text": [
      "Epoch 11/50: 100%|██████████| 1756/1756 [00:19<00:00, 89.65it/s] \n"
     ]
    },
    {
     "name": "stdout",
     "output_type": "stream",
     "text": [
      "Epoch 11: Train Loss = 0.3290, Test Loss = 0.3289\n"
     ]
    },
    {
     "name": "stderr",
     "output_type": "stream",
     "text": [
      "Epoch 12/50: 100%|██████████| 1756/1756 [00:21<00:00, 80.41it/s] \n"
     ]
    },
    {
     "name": "stdout",
     "output_type": "stream",
     "text": [
      "Epoch 12: Train Loss = 0.3285, Test Loss = 0.3270\n"
     ]
    },
    {
     "name": "stderr",
     "output_type": "stream",
     "text": [
      "Epoch 13/50: 100%|██████████| 1756/1756 [00:23<00:00, 75.77it/s]\n"
     ]
    },
    {
     "name": "stdout",
     "output_type": "stream",
     "text": [
      "Epoch 13: Train Loss = 0.3290, Test Loss = 0.3269\n"
     ]
    },
    {
     "name": "stderr",
     "output_type": "stream",
     "text": [
      "Epoch 14/50: 100%|██████████| 1756/1756 [00:28<00:00, 62.20it/s]\n"
     ]
    },
    {
     "name": "stdout",
     "output_type": "stream",
     "text": [
      "Epoch 14: Train Loss = 0.3281, Test Loss = 0.3295\n"
     ]
    },
    {
     "name": "stderr",
     "output_type": "stream",
     "text": [
      "Epoch 15/50: 100%|██████████| 1756/1756 [00:19<00:00, 88.03it/s] \n"
     ]
    },
    {
     "name": "stdout",
     "output_type": "stream",
     "text": [
      "Epoch 15: Train Loss = 0.3272, Test Loss = 0.3288\n"
     ]
    },
    {
     "name": "stderr",
     "output_type": "stream",
     "text": [
      "Epoch 16/50: 100%|██████████| 1756/1756 [00:13<00:00, 130.40it/s]\n"
     ]
    },
    {
     "name": "stdout",
     "output_type": "stream",
     "text": [
      "Epoch 16: Train Loss = 0.3268, Test Loss = 0.3285\n"
     ]
    },
    {
     "name": "stderr",
     "output_type": "stream",
     "text": [
      "Epoch 17/50: 100%|██████████| 1756/1756 [00:13<00:00, 131.07it/s]\n"
     ]
    },
    {
     "data": {
      "image/png": "[encoded data removed]",
      "text/plain": [
       "<Figure size 1000x600 with 1 Axes>"
      ]
     },
     "metadata": {},
     "output_type": "display_data"
    },
    {
     "name": "stdout",
     "output_type": "stream",
     "text": [
      "Final Train Loss = 0.3296, Final Test Loss = 0.3274\n"
     ]
    }
   ],
   "source": [
    "train_losses = []\n",
    "test_losses = []\n",
    "\n",
    "final_epoch = EPOCHS\n",
    "for epoch in range(EPOCHS):\n",
    "    model.train()\n",
    "    running_loss = 0.0\n",
    "    for X_batch, y_batch in tqdm(dataloader, desc=f\"Epoch {epoch+1}/{EPOCHS}\"):\n",
    "        optimizer.zero_grad()\n",
    "        outputs = model(X_batch)\n",
    "        loss = criterion(outputs, y_batch)\n",
    "        loss.backward()\n",
    "        optimizer.step()\n",
    "        running_loss += loss.item()\n",
    "    avg_train_loss = running_loss / len(dataloader)\n",
    "    train_losses.append(avg_train_loss)\n",
    "    \n",
    "    # Evaluate on test set\n",
    "    model.eval()\n",
    "    all_preds = []\n",
    "    all_trues = []\n",
    "\n",
    "    y_test_df = df[(cutoff < df['date']) & (df['date'] <= cutoff + pd.Timedelta(days=PREDICT_SIZE))]\n",
    "    y_test_grouped = y_test_df.groupby(['store_nbr', 'family'])\n",
    "\n",
    "    with torch.no_grad():\n",
    "        for (store, family), group in df_train.groupby(['store_nbr', 'family']):\n",
    "            group = group.sort_values('date')\n",
    "            input_seq = group[features].values[-WINDOW_SIZE:]\n",
    "            if len(input_seq) < WINDOW_SIZE:\n",
    "                continue\n",
    "            \n",
    "            input_seq_tensor = torch.tensor(input_seq, dtype=torch.float32).unsqueeze(0)  # add batch dim\n",
    "            \n",
    "            pred = model(input_seq_tensor).squeeze(0).cpu().numpy()\n",
    "            \n",
    "            try:\n",
    "                true_group = y_test_grouped.get_group((store, family)).sort_values('date')\n",
    "                true_sales = true_group['sales'].values[:PREDICT_SIZE]\n",
    "                if len(true_sales) < PREDICT_SIZE:\n",
    "                    continue\n",
    "            except KeyError:\n",
    "                continue\n",
    "            \n",
    "            all_preds.append(pred)\n",
    "            all_trues.append(true_sales)\n",
    "\n",
    "    if all_preds and all_trues:\n",
    "        all_preds_tensor = torch.tensor(np.vstack(all_preds), dtype=torch.float32)\n",
    "        all_trues_tensor = torch.tensor(np.vstack(all_trues), dtype=torch.float32)\n",
    "        test_loss = criterion(all_preds_tensor, all_trues_tensor).item()\n",
    "    else:\n",
    "        test_loss = float('nan')  # in case no valid predictions\n",
    "    test_losses.append(test_loss)\n",
    "\n",
    "    if len(train_losses) >= 5:\n",
    "        if train_losses[epoch-4] < train_losses[epoch]:\n",
    "            final_epoch = epoch+1\n",
    "            break\n",
    "\n",
    "    print(f\"Epoch {epoch+1}: Train Loss = {avg_train_loss:.4f}, Test Loss = {test_loss:.4f}\")\n",
    "\n",
    "# Plot losses\n",
    "plt.figure(figsize=(10,6))\n",
    "plt.plot(range(1, final_epoch+1), train_losses, label='Train Loss')\n",
    "plt.plot(range(1, final_epoch+1), test_losses, label='Test Loss')\n",
    "plt.xlabel('Epoch')\n",
    "plt.ylabel('Loss')\n",
    "plt.title('Training and Test Loss over Epochs')\n",
    "plt.legend()\n",
    "plt.grid(True)\n",
    "plt.show()\n",
    "\n",
    "\n",
    "print(f\"Final Train Loss = {avg_train_loss:.4f}, Final Test Loss = {test_loss:.4f}\")"
   ]
  }
 ],
 "metadata": {
  "kernelspec": {
   "display_name": "Python 3",
   "language": "python",
   "name": "python3"
  },
  "language_info": {
   "codemirror_mode": {
    "name": "ipython",
    "version": 3
   },
   "file_extension": ".py",
   "mimetype": "text/x-python",
   "name": "python",
   "nbconvert_exporter": "python",
   "pygments_lexer": "ipython3",
   "version": "3.10.14"
  }
 },
 "nbformat": 4,
 "nbformat_minor": 5
}
