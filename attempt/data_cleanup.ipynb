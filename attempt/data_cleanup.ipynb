{
 "cells": [
  {
   "cell_type": "markdown",
   "id": "8c8de087",
   "metadata": {},
   "source": [
    "Import packages and training data:"
   ]
  },
  {
   "cell_type": "code",
   "execution_count": 6,
   "id": "5add867a",
   "metadata": {},
   "outputs": [],
   "source": [
    "import seaborn as sns\n",
    "import numpy as np\n",
    "import pandas as pd\n",
    "import os\n",
    "import matplotlib.pyplot as plt\n",
    "import datetime\n",
    "\n",
    "os.chdir(r\"c:\\Users\\JosephVovrosh\\personalgit\")\n",
    "\n",
    "def get_missing_coordinates(df):\n",
    "    \"\"\"Return list of (row_index, column_name) where NaNs are found.\"\"\"\n",
    "    return list(zip(*np.where(pd.isna(df))))"
   ]
  },
  {
   "cell_type": "code",
   "execution_count": 7,
   "id": "7a0265e8",
   "metadata": {},
   "outputs": [],
   "source": [
    "df_train = pd.read_csv('data/Store_Sales/train.csv')\n",
    "df_train['date'] = pd.to_datetime(df_train['date'])\n",
    "\n",
    "stores = pd.read_csv('data/Store_Sales/stores.csv')\n",
    "\n",
    "oil_prices = pd.read_csv('data/Store_Sales/oil.csv')\n",
    "oil_prices['date'] = pd.to_datetime(oil_prices['date'])\n",
    "\n",
    "oil_prices.set_index('date', inplace=True)\n",
    "full_index = pd.date_range(start=oil_prices.index.min(), end=oil_prices.index.max(), freq='D')\n",
    "oil_prices = oil_prices.reindex(full_index)\n",
    "oil_prices = oil_prices.reset_index()\n",
    "oil_prices.rename(columns={'index': 'date'}, inplace=True)\n",
    "\n",
    "oil_prices = oil_prices.interpolate('linear', limit_direction='both')\n",
    "\n",
    "transactions = pd.read_csv('data/Store_Sales/transactions.csv')\n",
    "transactions['date'] = pd.to_datetime(transactions['date'])\n",
    "\n",
    "holidays = pd.read_csv('data/Store_Sales/holidays_events.csv')\n",
    "holidays['date'] = pd.to_datetime(holidays['date'])\n",
    "\n",
    "df_test = pd.read_csv('data/Store_Sales/test.csv')\n",
    "df_test['date'] = pd.to_datetime(df_test['date'])"
   ]
  },
  {
   "cell_type": "code",
   "execution_count": 8,
   "id": "f9807d54",
   "metadata": {},
   "outputs": [],
   "source": [
    "df_train = df_train.merge(\n",
    "    stores[['store_nbr', 'cluster', 'type', 'city', 'state']],\n",
    "    on='store_nbr',\n",
    "    how='left'\n",
    ")\n",
    "\n",
    "df_train = df_train.merge(\n",
    "    transactions[['date', 'store_nbr', 'transactions']],\n",
    "    on=['date', 'store_nbr'],\n",
    "    how='left'\n",
    ")\n",
    "df_train['transactions'] = df_train['transactions'].fillna(0)\n",
    "\n",
    "df_train = df_train.merge(\n",
    "    oil_prices[['date','dcoilwtico']],\n",
    "    on='date',\n",
    "    how='left'\n",
    ")\n",
    "\n",
    "holiday_local = holidays[holidays['locale']=='Local'].copy()\n",
    "holiday_local = holiday_local.rename(columns={'locale_name': 'city', 'type': 'type_local', 'transferred': 'transferred_local'})\n",
    "\n",
    "holiday_regional = holidays[holidays['locale']=='Regional'].copy()\n",
    "holiday_regional = holiday_regional.rename(columns={'locale_name': 'state', 'type': 'type_regional', 'transferred': 'transferred_regional'})\n",
    "\n",
    "holiday_national = holidays[holidays['locale']=='National'].copy()\n",
    "holiday_national = holiday_national.rename(columns={'type': 'type_national', 'transferred': 'transferred_national'})\n",
    "\n",
    "df_train = df_train.merge(\n",
    "    holiday_local[['date', 'city', 'type_local', 'transferred_local']],\n",
    "    on=['date', 'city'],\n",
    "    how='left'\n",
    ")\n",
    "\n",
    "df_train = df_train.merge(\n",
    "    holiday_regional[['date', 'state', 'type_regional', 'transferred_regional']],\n",
    "    on=['date', 'state'],\n",
    "    how='left'\n",
    ")\n",
    "\n",
    "df_train = df_train.merge(\n",
    "    holiday_national[['date', 'type_national', 'transferred_national']],\n",
    "    on='date',\n",
    "    how='left'\n",
    ")\n",
    "\n",
    "holiday_cols = [\n",
    "    'type_local', 'transferred_local',\n",
    "    'type_regional', 'transferred_regional',\n",
    "    'type_national', 'transferred_national'\n",
    "]\n",
    "df_train[holiday_cols] = df_train[holiday_cols].fillna(-1)\n"
   ]
  },
  {
   "cell_type": "code",
   "execution_count": 9,
   "id": "3731f706",
   "metadata": {},
   "outputs": [],
   "source": [
    "df_train.drop(columns='id')\n",
    "df_train['family'] = df_train['family'].astype('category').cat.codes\n",
    "df_train['type'] = df_train['type'].astype('category').cat.codes\n",
    "df_train['city'] = df_train['city'].astype('category').cat.codes\n",
    "df_train['state'] = df_train['state'].astype('category').cat.codes\n",
    "df_train['type_local'] = df_train['type_local'].astype('category').cat.codes\n",
    "df_train['transferred_local'] = df_train['transferred_local'].astype('category').cat.codes\n",
    "df_train['type_regional'] = df_train['type_regional'].astype('category').cat.codes\n",
    "df_train['transferred_regional'] = df_train['transferred_regional'].astype('category').cat.codes\n",
    "df_train['type_national'] = df_train['type_national'].astype('category').cat.codes\n",
    "df_train['transferred_national'] = df_train['transferred_national'].astype('category').cat.codes"
   ]
  },
  {
   "cell_type": "code",
   "execution_count": 11,
   "id": "5ff28f8c",
   "metadata": {},
   "outputs": [],
   "source": [
    "df_train.to_csv('Kaggle-Store_Sales/training_data.csv', index=False)"
   ]
  },
  {
   "cell_type": "code",
   "execution_count": null,
   "id": "8c7d8d13",
   "metadata": {},
   "outputs": [],
   "source": []
  }
 ],
 "metadata": {
  "kernelspec": {
   "display_name": "Python 3",
   "language": "python",
   "name": "python3"
  },
  "language_info": {
   "codemirror_mode": {
    "name": "ipython",
    "version": 3
   },
   "file_extension": ".py",
   "mimetype": "text/x-python",
   "name": "python",
   "nbconvert_exporter": "python",
   "pygments_lexer": "ipython3",
   "version": "3.10.14"
  }
 },
 "nbformat": 4,
 "nbformat_minor": 5
}
